{
 "cells": [
  {
   "cell_type": "markdown",
   "id": "4e7b3ccf",
   "metadata": {},
   "source": [
    "## Import the relevant libraries"
   ]
  },
  {
   "cell_type": "code",
   "execution_count": null,
   "id": "6742e657",
   "metadata": {},
   "outputs": [],
   "source": [
    "import numpy as np #mathematical operations\n",
    "import matplotlib.pyplot as plt #graphs\n",
    "from mpl_toolkits.mplot3d import Axes3D"
   ]
  },
  {
   "cell_type": "markdown",
   "id": "ea2d296d",
   "metadata": {},
   "source": [
    "Elements of the model in supervised learning:\n",
    "1. Inputs --> define\n",
    "2. Weights --> computer\n",
    "3. Biases --> computer\n",
    "4. Outputs --> computer\n",
    "5. Targets --> define"
   ]
  },
  {
   "cell_type": "markdown",
   "id": "59be583e",
   "metadata": {},
   "source": [
    "## Generate random input to train on"
   ]
  },
  {
   "cell_type": "markdown",
   "id": "f2f840a4",
   "metadata": {},
   "source": [
    "Create fake data with a linear relationship"
   ]
  },
  {
   "cell_type": "code",
   "execution_count": null,
   "id": "9f094aa3",
   "metadata": {},
   "outputs": [],
   "source": [
    "observations = 10000\n",
    "\n",
    "#We will create a two variable linear model\n",
    "#f(x,z) = a*x + b*z + c\n",
    "\n",
    "#size = n (no. observations) * k (no. variables)\n",
    "\n",
    "xs = np.random.uniform(low=-10, high=10, size=(observations, 1))\n",
    "zs = np.random.uniform(-10,10,(observations,1))\n",
    "\n",
    "#From the linear model, inputs = n * k = 1000 * 2\n",
    "inputs = np.column_stack((xs, zs))\n",
    "#stacks the observations into a 1000*2 matrix\n",
    "\n",
    "print(inputs.shape)"
   ]
  },
  {
   "cell_type": "markdown",
   "id": "a0e2a4ba",
   "metadata": {},
   "source": [
    "## Create the targets we will aim at"
   ]
  },
  {
   "cell_type": "markdown",
   "id": "e61e1240",
   "metadata": {},
   "source": [
    "The algorithm will have to figure the preset relationship on its own "
   ]
  },
  {
   "cell_type": "markdown",
   "id": "60067670",
   "metadata": {},
   "source": [
    "targets = f(x,z) = 2*x - 3*z + 5 + noise\n",
    "\n",
    "This is chosen arbitrarily, can try different functions for homework.\n",
    "\n",
    "Noise is introduced to randomise data, so refelcts real-world data.\n",
    "\n",
    "Conceptually, the algorithm must learn this is the function."
   ]
  },
  {
   "cell_type": "code",
   "execution_count": null,
   "id": "c96d4859",
   "metadata": {},
   "outputs": [],
   "source": [
    "noise = np.random.uniform(-1,1,(observations, 1))"
   ]
  },
  {
   "cell_type": "code",
   "execution_count": null,
   "id": "42590d1b",
   "metadata": {},
   "outputs": [],
   "source": [
    "targets = 2*xs - 3*zs + 5 + noise\n",
    "#2*xs is a vector 1000*1\n",
    "#3*zs is a vector 1000*1\n",
    "#5 is a scalar\n",
    "#targets should have the shape 1000*1\n",
    "print(targets.shape)"
   ]
  },
  {
   "cell_type": "code",
   "execution_count": null,
   "id": "3e80eaa5",
   "metadata": {},
   "outputs": [],
   "source": [
    "xs.ndim"
   ]
  },
  {
   "cell_type": "code",
   "execution_count": null,
   "id": "ba7280c6",
   "metadata": {},
   "outputs": [],
   "source": [
    "zs.ndim"
   ]
  },
  {
   "cell_type": "markdown",
   "id": "bdad4945",
   "metadata": {},
   "source": [
    "ax.plot3D requires xs and zs be one dimensional"
   ]
  },
  {
   "cell_type": "code",
   "execution_count": null,
   "id": "23ee17e9",
   "metadata": {},
   "outputs": [],
   "source": [
    "#???"
   ]
  },
  {
   "cell_type": "markdown",
   "id": "5df12852",
   "metadata": {},
   "source": [
    "## Plot the training data"
   ]
  },
  {
   "cell_type": "markdown",
   "id": "ba677d06",
   "metadata": {},
   "source": [
    "Observe there is a strong trend the model should reproduce."
   ]
  },
  {
   "cell_type": "code",
   "execution_count": null,
   "id": "910bf710",
   "metadata": {},
   "outputs": [],
   "source": [
    "targets1 = targets.reshape(observations,)\n",
    "xs1 = xs.reshape(observations,)\n",
    "zs1 = zs.reshape(observations,)\n",
    "fig = plt.figure()\n",
    "ax = fig.add_subplot(111, projection=\"3d\")\n",
    "ax.plot(xs1, zs1, targets1)\n",
    "ax.set_xlabel('xs')\n",
    "ax.set_ylabel('zs')\n",
    "ax.set_zlabel('Targets')\n",
    "ax.view_init(azim=100)\n",
    "plt.show()"
   ]
  },
  {
   "cell_type": "markdown",
   "id": "ee37b4ea",
   "metadata": {},
   "source": [
    "## Initialise variables"
   ]
  },
  {
   "cell_type": "code",
   "execution_count": null,
   "id": "f2a04533",
   "metadata": {},
   "outputs": [],
   "source": [
    "init_range = 0.1\n",
    "#Our initial weights and biases will be picked randomly from the interval [-0.1,0.1]"
   ]
  },
  {
   "cell_type": "markdown",
   "id": "771bb3cf",
   "metadata": {},
   "source": [
    "## Create weights"
   ]
  },
  {
   "cell_type": "code",
   "execution_count": null,
   "id": "8bd3acb7",
   "metadata": {},
   "outputs": [],
   "source": [
    "weights = np.random.uniform(-init_range,init_range,size=(2,1))\n",
    "#The size of the weights variable is 2*1 as we have two weights\n",
    "# One for each input variable, and a single output"
   ]
  },
  {
   "cell_type": "markdown",
   "id": "42b85c56",
   "metadata": {},
   "source": [
    "## Create biases"
   ]
  },
  {
   "cell_type": "code",
   "execution_count": null,
   "id": "7d150339",
   "metadata": {},
   "outputs": [],
   "source": [
    "biases = np.random.uniform(-init_range,init_range,size=1)\n",
    "#Bias is a scalar\n",
    "#In ML there are as many biases and there are outputs"
   ]
  },
  {
   "cell_type": "code",
   "execution_count": null,
   "id": "0ecedb76",
   "metadata": {},
   "outputs": [],
   "source": [
    "print(weights) \n",
    "print(biases)"
   ]
  },
  {
   "cell_type": "markdown",
   "id": "2bcf2a61",
   "metadata": {},
   "source": [
    "## Set a learning rate"
   ]
  },
  {
   "cell_type": "code",
   "execution_count": null,
   "id": "ddf85a5e",
   "metadata": {},
   "outputs": [],
   "source": [
    "learning_rate = 0.02 #good for this model"
   ]
  },
  {
   "cell_type": "markdown",
   "id": "10e94d5c",
   "metadata": {},
   "source": [
    "## Train the model"
   ]
  },
  {
   "cell_type": "code",
   "execution_count": null,
   "id": "d25185b4",
   "metadata": {},
   "outputs": [],
   "source": [
    "#Minimising the loss function with respect to the weights and biases\n",
    "\n",
    "for i in range (100):\n",
    "    #Calculate outputs, multiplying matrices needs dot method\n",
    "    outputs = np.dot(inputs,weights) + biases # 1000*2,2*1 results is 1000*1 matrix and scalar added element wise\n",
    "    #Compare outputs to targets through the loss\n",
    "    deltas = outputs - targets # deltas is 1000*1 array\n",
    "    # Print the loss for each iteration, we will use L2-norm loss / 2 ... division by 2 doesn't change logic of loss function\n",
    "    # makes learning independent of the number of observations, we adjust loss instead of learning rate\n",
    "    # so we get same learning for 1000 or 10000 observations etc.\n",
    "    loss = np.sum(deltas ** 2) / 2 / observations # mean loss, average loss for observation\n",
    "    print(loss) # is it decreasing?\n",
    "    #Adjust weights and biases, following gradient descent methodology\n",
    "    deltas_scaled = deltas / observations\n",
    "    \n",
    "    weights = weights - learning_rate * np.dot(inputs.T, deltas_scaled)\n",
    "    #2*1        2*1      Scalar                2*1000  1000*1 = 2*1\n",
    "    #Transpose so dot product can be evaluated\n",
    "    biases = biases - learning_rate * np.sum(deltas_scaled)\n",
    "    \n",
    "    #will improve with the number of iterations"
   ]
  },
  {
   "cell_type": "markdown",
   "id": "1af4c8fb",
   "metadata": {},
   "source": [
    "## Print weights and biases to see if we have work correctly"
   ]
  },
  {
   "cell_type": "code",
   "execution_count": null,
   "id": "ba4d7e22",
   "metadata": {},
   "outputs": [],
   "source": [
    "#t = f(xs,zs) = 2*xs - 3*zs + 5 + noise\n",
    "\n",
    "print(weights, biases)"
   ]
  },
  {
   "cell_type": "markdown",
   "id": "61112d3b",
   "metadata": {},
   "source": [
    "## Plot last outputs vs targets"
   ]
  },
  {
   "cell_type": "code",
   "execution_count": null,
   "id": "95e86565",
   "metadata": {},
   "outputs": [],
   "source": [
    "plt.plot(outputs,targets)\n",
    "plt.xlabel('Outputs')\n",
    "plt.ylabel('Targets')\n",
    "plt.show()"
   ]
  },
  {
   "cell_type": "markdown",
   "id": "394cea75",
   "metadata": {},
   "source": [
    "The closer the plot is to a 45 degree line, the closer it is to the targets."
   ]
  }
 ],
 "metadata": {
  "kernelspec": {
   "display_name": "Python 3 (ipykernel)",
   "language": "python",
   "name": "python3"
  },
  "language_info": {
   "codemirror_mode": {
    "name": "ipython",
    "version": 3
   },
   "file_extension": ".py",
   "mimetype": "text/x-python",
   "name": "python",
   "nbconvert_exporter": "python",
   "pygments_lexer": "ipython3",
   "version": "3.9.13"
  }
 },
 "nbformat": 4,
 "nbformat_minor": 5
}
